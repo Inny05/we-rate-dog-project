{
 "cells": [
  {
   "cell_type": "markdown",
   "metadata": {},
   "source": [
    "## Reporting: wragle_report\n",
    "* Create a **300-600 word written report** called \"wrangle_report.pdf\" or \"wrangle_report.html\" that briefly describes your wrangling efforts. This is to be framed as an internal document."
   ]
  },
  {
   "cell_type": "markdown",
   "metadata": {},
   "source": [
    " ##                                     </div>__WeRateDogs Wrangle report__</div>\n",
    "\n",
    "__Data gathering__\n",
    "\n",
    "Three datasets were used for this project and each was gathered using different methods.\n",
    "To start this project, different libraries were imported (pandas, tweepy, seaborn, matplotlib, json, request, etc.). \n",
    "The first dataset was a csv file and it was read using the pandas library, the second data set was obtained using the request library. While the last dataset was scraped from twitter using tweepy to access the Twitter Api.\n",
    "\n",
    "__Data assessing__\n",
    "\n",
    "The data acquired required cleaning as it was messy. 10 issues were identified and fixed. Issues identified were wrong data types, missing values in rows and columns, duplicate values in columns and rows. \n",
    "\n",
    "To commence cleaning the data, the datasets were merged into one document.  After assessing the data manually and programmatically, it was discovered that columns like retweeted_status_id, retweeted_status_user_id, retweeted_status_timestamp, in_reply_to_status_id, in_reply_to_user_id had over 2000 missing values and would have to be dropped. It was also discovered that the tweet_id column had  duplicate columns, and its data type was an integer instead of an object data type.\n",
    "\n",
    "It was also discovered that the doggo, pupper, floofer and puppo which are dog growth stages, were recorded in columns, instead of having it all merged into one column.\n",
    "\n",
    "The timestamp and retweeted_status_timestamp were recorded as object data types instead of datetime objects.\n",
    "\n",
    "__Data cleaning__\n",
    "\n",
    "Tidiness issues\n",
    "To clean the dataset we had two tidiness issues which includes having multiple datasets to work with and having different columns for the dog stages. To sort this, a copy of the datasets were stored in another variable and merged into one dataset, and the dog stages were also merged into one column.\n",
    "\n",
    "Quality issues__\n",
    "Columns with too many missing values were dropped using the pandas _‘drop’_ function, and duplicate columns were also dropped. Rows with missing values were also dropped using the _‘dropna’_ function.\n",
    "\n",
    "Columns with wrong data types were converted to the correct data type using the _‘astype’_ function. Two columns were also converted to the category and the float data type using this function, while columns converted to data time data types used the ‘_pd.to_datetime_’ function. \n",
    "\n",
    "The source name was extracted using the split function to get the last word which is the source name.\n",
    "\n",
    "\n",
    "\n",
    "__Data  visualization__ \n",
    "From our visualization it is observed that the iphone accounts for the source of about 90% of the tweets. The golden retriever dog specie was the most predicted specie of dog and the labrador retriever was the second most predicted dog specie.\n",
    "\n",
    "The  clean data was stored as a _'twitter_archive_master.csv'_\n"
   ]
  },
  {
   "cell_type": "code",
   "execution_count": null,
   "metadata": {},
   "outputs": [],
   "source": []
  }
 ],
 "metadata": {
  "kernelspec": {
   "display_name": "Python 3",
   "language": "python",
   "name": "python3"
  },
  "language_info": {
   "codemirror_mode": {
    "name": "ipython",
    "version": 3
   },
   "file_extension": ".py",
   "mimetype": "text/x-python",
   "name": "python",
   "nbconvert_exporter": "python",
   "pygments_lexer": "ipython3",
   "version": "3.6.3"
  }
 },
 "nbformat": 4,
 "nbformat_minor": 2
}
