{
 "cells": [
  {
   "cell_type": "markdown",
   "metadata": {},
   "source": [
    "## Report: act_report\n",
    "* Create a **250-word-minimum written report** called \"act_report.pdf\" or \"act_report.html\" that communicates the insights and displays the visualization(s) produced from your wrangled data. This is to be framed as an external document, like a blog post or magazine article, for example."
   ]
  },
  {
   "cell_type": "markdown",
   "metadata": {},
   "source": [
    "# __Visualization Report__\n",
    "\n",
    "After the data was cleaned and we had no missing values, the data was ready for visualization.\n",
    "For the  visualizations, we used the 3 prediction algorithms, which are: the p1, p2 and the p3 columns and we also used the source column.\n",
    "\n",
    "### __THE SOURCE__\n",
    "\n",
    "From the visual below, the Iphone is the source to many of the tweets as over 90% of the tweets had the iphone device as it source.. This inferes that the Iphone was more commonly used to generate the data gotten and was a more popular source of collecting data for this project. \n"
   ]
  },
  {
   "cell_type": "markdown",
   "metadata": {},
   "source": [
    "<img src=\"tweet_source.png\">"
   ]
  },
  {
   "cell_type": "markdown",
   "metadata": {},
   "source": [
    "### __ THE PREDICTIONS VISUALS__\n",
    "\n",
    "The visual was created using the predictions gotten from an online survey. From the data it is recorded that the golden retriever had the most predictions from two prediction algorithms and got the second most predictions by one algorithm. While the Labrador retriever was the second most predicted by two algorithms and the most predicted by one algorithm.\n",
    "\n",
    "Other popular species include the Pembroke, which was predicted third by two algorithms and the Chihuahua was predicted to be fourth by the three algorithms\n",
    "\n",
    "In general, the retrievers are the most predicted species and the golden retriever is the most predicted specie. While the Pembroke and the Chihuahua came in as the third and the fourth most predicted species."
   ]
  },
  {
   "cell_type": "markdown",
   "metadata": {},
   "source": [
    " <img src=\"dogs_class_pred.png\">"
   ]
  },
  {
   "cell_type": "markdown",
   "metadata": {},
   "source": [
    "In conclusion, the Iphone was recorded as the source of most of our data and the Golden retriever was the most predicted dog specie by our algorithms."
   ]
  },
  {
   "cell_type": "code",
   "execution_count": null,
   "metadata": {},
   "outputs": [],
   "source": []
  }
 ],
 "metadata": {
  "kernelspec": {
   "display_name": "Python 3",
   "language": "python",
   "name": "python3"
  },
  "language_info": {
   "codemirror_mode": {
    "name": "ipython",
    "version": 3
   },
   "file_extension": ".py",
   "mimetype": "text/x-python",
   "name": "python",
   "nbconvert_exporter": "python",
   "pygments_lexer": "ipython3",
   "version": "3.6.3"
  }
 },
 "nbformat": 4,
 "nbformat_minor": 2
}
